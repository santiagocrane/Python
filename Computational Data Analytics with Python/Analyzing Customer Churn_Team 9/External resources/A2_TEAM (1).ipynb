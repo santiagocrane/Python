{
 "cells": [
  {
   "cell_type": "code",
   "execution_count": 10,
   "id": "135a3bf5",
   "metadata": {
    "ExecuteTime": {
     "end_time": "2023-02-17T16:20:22.840842Z",
     "start_time": "2023-02-17T16:20:22.828499Z"
    }
   },
   "outputs": [],
   "source": [
    "# importing libraries\n",
    "import pandas as pd\n",
    "import matplotlib.pyplot as plt\n",
    "import seaborn as sns\n",
    "import numpy as np\n",
    "from sklearn import preprocessing\n",
    "from sklearn.linear_model import LogisticRegression\n",
    "from sklearn.model_selection import train_test_split\n",
    "from sklearn import metrics\n",
    "from sklearn.metrics import confusion_matrix\n",
    "from sklearn.metrics import classification_report\n",
    "from sklearn.metrics import roc_auc_score\n",
    "from sklearn.metrics import roc_curve\n",
    "from sklearn.preprocessing import StandardScaler"
   ]
  },
  {
   "cell_type": "code",
   "execution_count": 11,
   "id": "0753b34a",
   "metadata": {
    "ExecuteTime": {
     "end_time": "2023-02-17T16:20:25.053497Z",
     "start_time": "2023-02-17T16:20:24.986101Z"
    }
   },
   "outputs": [],
   "source": [
    "\n",
    "\n",
    "# specifying file name\n",
    "file = 'A2.csv'\n",
    "\n",
    "# setting pandas print options\n",
    "pd.set_option('display.max_rows', 500)\n",
    "pd.set_option('display.max_columns', 500)\n",
    "pd.set_option('display.width', 1000)\n",
    "\n",
    "# reading the file into Python\n",
    "data_df = pd.read_csv(file)"
   ]
  },
  {
   "cell_type": "code",
   "execution_count": 18,
   "id": "fdc828cc",
   "metadata": {
    "ExecuteTime": {
     "end_time": "2023-02-17T16:28:07.868863Z",
     "start_time": "2023-02-17T16:28:07.861847Z"
    }
   },
   "outputs": [],
   "source": [
    "# x variables \n",
    "x_var = [\n",
    "#                   'Unnamed: 0', \n",
    "                  'gender', \n",
    "                  'SeniorCitizen', \n",
    "                  'Partner', \n",
    "                  'tenure', \n",
    "                  'PhoneService', \n",
    "                  'MultipleLines', \n",
    "                  'InternetService', \n",
    "                  'OnlineSecurity', \n",
    "                  'OnlineBackup', \n",
    "                  'DeviceProtection', \n",
    "                  'TechSupport', \n",
    "                  'StreamingTV', \n",
    "                  'StreamingMovies', \n",
    "                  'Contract', \n",
    "                  'PaperlessBilling', \n",
    "                  'TotalCharges', \n",
    "                  'Geography', \n",
    "                  'CreditScore', \n",
    "#                   'Surname', \n",
    "                  'EstimatedSalary', \n",
    "#                   'MonthlyCharges', \n",
    "#                   'customerID', \n",
    "                  'Dependents', \n",
    "                  'PaymentMethod', \n",
    "                  'Charge',\n",
    "                  'Churn' \n",
    "\n",
    "]"
   ]
  },
  {
   "cell_type": "code",
   "execution_count": 19,
   "id": "bb8db3df",
   "metadata": {
    "ExecuteTime": {
     "end_time": "2023-02-17T16:28:09.685610Z",
     "start_time": "2023-02-17T16:28:09.666884Z"
    }
   },
   "outputs": [],
   "source": [
    "data_df = data_df.loc[:,x_var]"
   ]
  },
  {
   "cell_type": "code",
   "execution_count": 95,
   "id": "33df79ba",
   "metadata": {
    "ExecuteTime": {
     "end_time": "2023-02-17T17:31:25.695899Z",
     "start_time": "2023-02-17T17:31:25.644308Z"
    }
   },
   "outputs": [
    {
     "name": "stdout",
     "output_type": "stream",
     "text": [
      "<class 'pandas.core.frame.DataFrame'>\n",
      "Int64Index: 7337 entries, 0 to 7999\n",
      "Data columns (total 23 columns):\n",
      " #   Column            Non-Null Count  Dtype  \n",
      "---  ------            --------------  -----  \n",
      " 0   gender            7337 non-null   object \n",
      " 1   SeniorCitizen     7337 non-null   float64\n",
      " 2   Partner           7337 non-null   bool   \n",
      " 3   tenure            7337 non-null   float64\n",
      " 4   PhoneService      7337 non-null   object \n",
      " 5   MultipleLines     7337 non-null   object \n",
      " 6   InternetService   7337 non-null   object \n",
      " 7   OnlineSecurity    7337 non-null   object \n",
      " 8   OnlineBackup      7337 non-null   object \n",
      " 9   DeviceProtection  7337 non-null   object \n",
      " 10  TechSupport       7337 non-null   object \n",
      " 11  StreamingTV       7337 non-null   object \n",
      " 12  StreamingMovies   7337 non-null   object \n",
      " 13  Contract          7337 non-null   object \n",
      " 14  PaperlessBilling  7337 non-null   object \n",
      " 15  TotalCharges      7337 non-null   object \n",
      " 16  Geography         7337 non-null   object \n",
      " 17  CreditScore       7337 non-null   float64\n",
      " 18  EstimatedSalary   7293 non-null   float64\n",
      " 19  Dependents        7337 non-null   bool   \n",
      " 20  PaymentMethod     7337 non-null   object \n",
      " 21  Charge            7337 non-null   float64\n",
      " 22  Churn             7337 non-null   object \n",
      "dtypes: bool(2), float64(5), object(16)\n",
      "memory usage: 1.2+ MB\n"
     ]
    }
   ],
   "source": [
    "data_df.info()"
   ]
  },
  {
   "cell_type": "code",
   "execution_count": null,
   "id": "24d71c63",
   "metadata": {},
   "outputs": [],
   "source": [
    "\n",
    "\"\"\"\n",
    "*****total charges - median\n",
    "*****credit score - median\n",
    "\n",
    "*****estimated salary - median ? outliers\n",
    "\n",
    "\n",
    "\n"
   ]
  },
  {
   "cell_type": "code",
   "execution_count": 34,
   "id": "abb64530",
   "metadata": {
    "ExecuteTime": {
     "end_time": "2023-02-17T16:37:44.502569Z",
     "start_time": "2023-02-17T16:37:44.397624Z"
    }
   },
   "outputs": [],
   "source": [
    "# ROWS we decided to drop because of NA's\n",
    "data_df = data_df.dropna(subset=['gender'])\n",
    "data_df = data_df.dropna(subset=['SeniorCitizen'])\n",
    "data_df = data_df.dropna(subset=['PhoneService'])\n",
    "data_df = data_df.dropna(subset=['MultipleLines'])\n",
    "data_df = data_df.dropna(subset=['InternetService'])\n",
    "data_df = data_df.dropna(subset=['OnlineSecurity'])\n",
    "data_df = data_df.dropna(subset=['InternetService'])\n",
    "data_df = data_df.dropna(subset=['OnlineBackup'])\n",
    "data_df = data_df.dropna(subset=['DeviceProtection'])\n",
    "data_df = data_df.dropna(subset=['TechSupport'])\n",
    "data_df = data_df.dropna(subset=['StreamingTV'])\n",
    "data_df = data_df.dropna(subset=['StreamingMovies'])\n",
    "data_df = data_df.dropna(subset=['PaperlessBilling'])\n",
    "data_df = data_df.dropna(subset=['Churn'])"
   ]
  },
  {
   "cell_type": "code",
   "execution_count": 94,
   "id": "a4438187",
   "metadata": {
    "ExecuteTime": {
     "end_time": "2023-02-17T17:31:09.754379Z",
     "start_time": "2023-02-17T17:31:09.731659Z"
    }
   },
   "outputs": [
    {
     "data": {
      "text/plain": [
       "array(['7679.65', '1441.95', '1838.15', ..., '1848.8', '692.35', '914'],\n",
       "      dtype=object)"
      ]
     },
     "execution_count": 94,
     "metadata": {},
     "output_type": "execute_result"
    }
   ],
   "source": [
    "data_df['TotalCharges'].unique()"
   ]
  },
  {
   "cell_type": "code",
   "execution_count": 37,
   "id": "d3fca1eb",
   "metadata": {
    "ExecuteTime": {
     "end_time": "2023-02-17T16:41:19.932294Z",
     "start_time": "2023-02-17T16:41:19.919285Z"
    }
   },
   "outputs": [],
   "source": [
    "# Replace NaN values in 'Partner' column with random 'Yes' or 'No' values\n",
    "partner_values = ['Yes', 'No']\n",
    "data_df['Partner'] = np.where(data_df['Partner'].isna(), np.random.choice(partner_values, size=len(data_df)), data_df['Partner'])\n",
    "data_df['Partner'] = data_df['Partner'].map({'Yes':True,'No':False})\n",
    "\n",
    "data_df['Dependents'] = data_df['Dependents'].map({'Yes':True,'No':False})"
   ]
  },
  {
   "cell_type": "code",
   "execution_count": 45,
   "id": "8ed4ed9e",
   "metadata": {
    "ExecuteTime": {
     "end_time": "2023-02-17T16:49:37.947576Z",
     "start_time": "2023-02-17T16:49:37.936521Z"
    }
   },
   "outputs": [],
   "source": [
    "#Filling missing values with median from the column\n",
    "data_df['tenure'] = (data_df['tenure'].fillna(data_df['tenure'].median()))\n",
    "data_df['CreditScore'] = (data_df['CreditScore'].fillna(data_df['CreditScore'].median()))\n",
    "#Replacing the \"No phone service\" with \"No\" for NO PHONE SERVICE\n",
    "data_df['MultipleLines'] = data_df['MultipleLines'].replace('No phone service', 'No')\n",
    "#Replacing the \"No internet service\" with \"No\" for ONLINE SECURITY\n",
    "data_df['OnlineSecurity'] = data_df['OnlineSecurity'].replace('No internet service', 'No')\n",
    "#Replacing the \"No internet service\" with \"No\" for ONLINE BACKUP\n",
    "data_df['OnlineBackup'] = data_df['OnlineBackup'].replace('No internet service', 'No')\n",
    "#Replacing the \"No internet service\" with \"No\" for DECIVE PROTECTION\n",
    "data_df['DeviceProtection'] = data_df['DeviceProtection'].replace('No internet service', 'No')\n",
    "#Replacing the \"No internet service\" with \"No\" for TECH SUPPORT\n",
    "data_df['TechSupport'] = data_df['TechSupport'].replace('No internet service', 'No')\n",
    "#Replacing the \"No internet service\" with \"No\" for STREAMING TV\n",
    "data_df['StreamingTV'] = data_df['StreamingTV'].replace('No internet service', 'No')\n",
    "#Replacing the \"No internet service\" with \"No\" for STREAMING MOVIES\n",
    "data_df['StreamingMovies'] = data_df['StreamingMovies'].replace('No internet service', 'No')\n",
    "\n",
    "#Replacing nan with month to month (ASSUMPTION) IN CONTRACT\n",
    "data_df['Contract'] = (data_df['Contract'].fillna('Month-to-month'))\n",
    "\n",
    "# Replace NaN values in 'Geography' column with random 'Spain', 'France', 'Germany' values\n",
    "geography_values = ['Germany', 'France', 'Spain']\n",
    "data_df['Geography'] = np.where(data_df['Geography'].isna(), np.random.choice(geography_values, size=len(data_df)), data_df['Geography'])\n"
   ]
  },
  {
   "cell_type": "code",
   "execution_count": 92,
   "id": "8859e9a6",
   "metadata": {
    "ExecuteTime": {
     "end_time": "2023-02-17T17:28:27.886340Z",
     "start_time": "2023-02-17T17:28:27.867087Z"
    }
   },
   "outputs": [],
   "source": []
  },
  {
   "cell_type": "code",
   "execution_count": null,
   "id": "9a73813c",
   "metadata": {},
   "outputs": [],
   "source": []
  }
 ],
 "metadata": {
  "kernelspec": {
   "display_name": "Python 3 (ipykernel)",
   "language": "python",
   "name": "python3"
  },
  "language_info": {
   "codemirror_mode": {
    "name": "ipython",
    "version": 3
   },
   "file_extension": ".py",
   "mimetype": "text/x-python",
   "name": "python",
   "nbconvert_exporter": "python",
   "pygments_lexer": "ipython3",
   "version": "3.9.13"
  },
  "toc": {
   "base_numbering": 1,
   "nav_menu": {},
   "number_sections": true,
   "sideBar": true,
   "skip_h1_title": false,
   "title_cell": "Table of Contents",
   "title_sidebar": "Contents",
   "toc_cell": false,
   "toc_position": {},
   "toc_section_display": true,
   "toc_window_display": false
  },
  "varInspector": {
   "cols": {
    "lenName": 16,
    "lenType": 16,
    "lenVar": 40
   },
   "kernels_config": {
    "python": {
     "delete_cmd_postfix": "",
     "delete_cmd_prefix": "del ",
     "library": "var_list.py",
     "varRefreshCmd": "print(var_dic_list())"
    },
    "r": {
     "delete_cmd_postfix": ") ",
     "delete_cmd_prefix": "rm(",
     "library": "var_list.r",
     "varRefreshCmd": "cat(var_dic_list()) "
    }
   },
   "types_to_exclude": [
    "module",
    "function",
    "builtin_function_or_method",
    "instance",
    "_Feature"
   ],
   "window_display": false
  }
 },
 "nbformat": 4,
 "nbformat_minor": 5
}
