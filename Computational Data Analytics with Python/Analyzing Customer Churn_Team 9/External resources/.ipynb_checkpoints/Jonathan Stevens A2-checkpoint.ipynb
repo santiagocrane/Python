{
 "cells": [
  {
   "cell_type": "markdown",
   "id": "f2a39043",
   "metadata": {},
   "source": [
    "## Import Packages and Read File"
   ]
  },
  {
   "cell_type": "code",
   "execution_count": 1,
   "id": "f09beafb",
   "metadata": {},
   "outputs": [],
   "source": [
    "# importing libraries\n",
    "import pandas as pd\n",
    "import matplotlib.pyplot as plt\n",
    "import seaborn as sns\n",
    "import numpy as np\n",
    "from sklearn import preprocessing\n",
    "from sklearn.linear_model import LogisticRegression\n",
    "from sklearn.model_selection import train_test_split\n",
    "from sklearn import metrics\n",
    "from sklearn.metrics import confusion_matrix\n",
    "from sklearn.metrics import classification_report\n",
    "from sklearn.metrics import roc_auc_score\n",
    "from sklearn.metrics import roc_curve\n",
    "from sklearn.preprocessing import StandardScaler"
   ]
  },
  {
   "cell_type": "code",
   "execution_count": 2,
   "id": "ddc1b044",
   "metadata": {},
   "outputs": [],
   "source": [
    "# specifying file name\n",
    "file = 'A2.csv'\n",
    "\n",
    "# setting pandas print options\n",
    "pd.set_option('display.max_rows', 500)\n",
    "pd.set_option('display.max_columns', 500)\n",
    "pd.set_option('display.width', 1000)\n",
    "\n",
    "# reading the file into Python\n",
    "data_df = pd.read_csv(file)\n",
    "data_re_initialized = True"
   ]
  },
  {
   "cell_type": "markdown",
   "id": "29fcddbf",
   "metadata": {},
   "source": [
    "## EDA | Data Cleaning | Memory Minimization"
   ]
  },
  {
   "cell_type": "markdown",
   "id": "2cf3e97e",
   "metadata": {
    "heading_collapsed": true
   },
   "source": [
    "#### EDA"
   ]
  },
  {
   "cell_type": "markdown",
   "id": "ae6a1357",
   "metadata": {
    "hidden": true
   },
   "source": [
    "- gender - drop row\n",
    "- senior citizen - drop row\n",
    "- partner  - randomise\n",
    "- tenure - median\n",
    "- phone sexrvice - drop row\n",
    "- miltiple lines - erase row & no phone service ---> no\n",
    "- internet service - drop row\n",
    "- online security  - erase row & no phone service ---> no\n",
    "- \"\n",
    "- \"\n",
    "- \"\n",
    "- \"\n",
    "- streming movies - same\n",
    "- contract - fill empyt with month to month - make category col\n",
    "- paperless billing - drop row\n",
    "- total charges - median\n",
    "- georgraphy - random between other values\n",
    "- credit score - median\n",
    "- surname - drop col\n",
    "- estimated salary - median\n",
    "- monthy charges - drop col\n",
    "- customer id - drop col\n",
    "- dependents - no missing value\n",
    "- payment method - no null - category\n",
    "- charge - no missing value\n",
    "<br>\n",
    "<br>\n",
    "- churn - drop rows"
   ]
  },
  {
   "cell_type": "code",
   "execution_count": null,
   "id": "127a707f",
   "metadata": {
    "hidden": true
   },
   "outputs": [],
   "source": [
    "data_df.head(10)"
   ]
  },
  {
   "cell_type": "code",
   "execution_count": null,
   "id": "742d30f0",
   "metadata": {
    "hidden": true
   },
   "outputs": [],
   "source": [
    "data_df.info()"
   ]
  },
  {
   "cell_type": "markdown",
   "id": "0917d1bf",
   "metadata": {
    "heading_collapsed": true
   },
   "source": [
    "#### Drop Columns"
   ]
  },
  {
   "cell_type": "code",
   "execution_count": 3,
   "id": "39986231",
   "metadata": {
    "hidden": true
   },
   "outputs": [
    {
     "data": {
      "text/html": [
       "<div>\n",
       "<style scoped>\n",
       "    .dataframe tbody tr th:only-of-type {\n",
       "        vertical-align: middle;\n",
       "    }\n",
       "\n",
       "    .dataframe tbody tr th {\n",
       "        vertical-align: top;\n",
       "    }\n",
       "\n",
       "    .dataframe thead th {\n",
       "        text-align: right;\n",
       "    }\n",
       "</style>\n",
       "<table border=\"1\" class=\"dataframe\">\n",
       "  <thead>\n",
       "    <tr style=\"text-align: right;\">\n",
       "      <th></th>\n",
       "      <th>gender</th>\n",
       "      <th>SeniorCitizen</th>\n",
       "      <th>Partner</th>\n",
       "      <th>tenure</th>\n",
       "      <th>PhoneService</th>\n",
       "      <th>MultipleLines</th>\n",
       "      <th>InternetService</th>\n",
       "      <th>OnlineSecurity</th>\n",
       "      <th>OnlineBackup</th>\n",
       "      <th>DeviceProtection</th>\n",
       "      <th>TechSupport</th>\n",
       "      <th>StreamingTV</th>\n",
       "      <th>StreamingMovies</th>\n",
       "      <th>Contract</th>\n",
       "      <th>PaperlessBilling</th>\n",
       "      <th>TotalCharges</th>\n",
       "      <th>Geography</th>\n",
       "      <th>CreditScore</th>\n",
       "      <th>EstimatedSalary</th>\n",
       "      <th>Dependents</th>\n",
       "      <th>PaymentMethod</th>\n",
       "      <th>Charge</th>\n",
       "      <th>Churn</th>\n",
       "    </tr>\n",
       "  </thead>\n",
       "  <tbody>\n",
       "    <tr>\n",
       "      <th>0</th>\n",
       "      <td>Female</td>\n",
       "      <td>0.0</td>\n",
       "      <td>Yes</td>\n",
       "      <td>72.0</td>\n",
       "      <td>Yes</td>\n",
       "      <td>No</td>\n",
       "      <td>Fiber optic</td>\n",
       "      <td>Yes</td>\n",
       "      <td>Yes</td>\n",
       "      <td>Yes</td>\n",
       "      <td>Yes</td>\n",
       "      <td>Yes</td>\n",
       "      <td>Yes</td>\n",
       "      <td>Two year</td>\n",
       "      <td>Yes</td>\n",
       "      <td>7679.65</td>\n",
       "      <td>Germany</td>\n",
       "      <td>602.0</td>\n",
       "      <td>45038.29</td>\n",
       "      <td>Yes</td>\n",
       "      <td>Bank transfer (automatic)</td>\n",
       "      <td>108.3</td>\n",
       "      <td>No</td>\n",
       "    </tr>\n",
       "  </tbody>\n",
       "</table>\n",
       "</div>"
      ],
      "text/plain": [
       "   gender  SeniorCitizen Partner  tenure PhoneService MultipleLines InternetService OnlineSecurity OnlineBackup DeviceProtection TechSupport StreamingTV StreamingMovies  Contract PaperlessBilling TotalCharges Geography  CreditScore  EstimatedSalary Dependents              PaymentMethod  Charge Churn\n",
       "0  Female            0.0     Yes    72.0          Yes            No     Fiber optic            Yes          Yes              Yes         Yes         Yes             Yes  Two year              Yes      7679.65   Germany        602.0         45038.29        Yes  Bank transfer (automatic)   108.3    No"
      ]
     },
     "execution_count": 3,
     "metadata": {},
     "output_type": "execute_result"
    }
   ],
   "source": [
    "# drop colums \n",
    "data_df = data_df[[\n",
    "#                   'Unnamed: 0', \n",
    "                  'gender', \n",
    "                  'SeniorCitizen', \n",
    "                  'Partner', \n",
    "                  'tenure', \n",
    "                  'PhoneService', \n",
    "                  'MultipleLines',\n",
    "                  'InternetService', \n",
    "                  'OnlineSecurity', \n",
    "                  'OnlineBackup', \n",
    "                  'DeviceProtection', \n",
    "                  'TechSupport', \n",
    "                  'StreamingTV', \n",
    "                  'StreamingMovies', \n",
    "                  'Contract', \n",
    "                  'PaperlessBilling', \n",
    "                  'TotalCharges', \n",
    "                  'Geography', \n",
    "                  'CreditScore', \n",
    "#                   'Surname', \n",
    "                  'EstimatedSalary', \n",
    "#                   'MonthlyCharges', \n",
    "#                   'customerID', \n",
    "                  'Dependents', \n",
    "                  'PaymentMethod', \n",
    "                  'Charge',\n",
    "                  'Churn']]\n",
    "data_df.head(1)"
   ]
  },
  {
   "cell_type": "markdown",
   "id": "57e71b31",
   "metadata": {},
   "source": [
    "#### Clean Missing Values"
   ]
  },
  {
   "cell_type": "markdown",
   "id": "1b91a92b",
   "metadata": {},
   "source": [
    "Drop rows with null values for these fields"
   ]
  },
  {
   "cell_type": "code",
   "execution_count": 4,
   "id": "c71612e8",
   "metadata": {},
   "outputs": [],
   "source": [
    "# ROWS we decided to drop because of NA's\n",
    "data_df = data_df.dropna(subset=['gender'])\n",
    "data_df = data_df.dropna(subset=['SeniorCitizen'])\n",
    "data_df = data_df.dropna(subset=['PhoneService'])\n",
    "data_df = data_df.dropna(subset=['MultipleLines'])\n",
    "data_df = data_df.dropna(subset=['InternetService'])\n",
    "data_df = data_df.dropna(subset=['OnlineSecurity'])\n",
    "data_df = data_df.dropna(subset=['InternetService'])\n",
    "data_df = data_df.dropna(subset=['OnlineBackup'])\n",
    "data_df = data_df.dropna(subset=['DeviceProtection'])\n",
    "data_df = data_df.dropna(subset=['TechSupport'])\n",
    "data_df = data_df.dropna(subset=['StreamingTV'])\n",
    "data_df = data_df.dropna(subset=['StreamingMovies'])\n",
    "data_df = data_df.dropna(subset=['PaperlessBilling'])\n",
    "data_df = data_df.dropna(subset=['Churn'])"
   ]
  },
  {
   "cell_type": "code",
   "execution_count": 5,
   "id": "576f9afd",
   "metadata": {},
   "outputs": [],
   "source": [
    "# Dealing with special problem in TotalCharges\n",
    "data_df.TotalCharges = data_df.TotalCharges.replace(' ', '0')\n",
    "data_df.TotalCharges = data_df.TotalCharges.astype('float')\n",
    "median_TotalCharges = data_df.TotalCharges.median()\n",
    "data_df.TotalCharges = data_df.TotalCharges.fillna(median_TotalCharges)\n",
    "\n",
    "# Replaceing null with median for EstimatedSalary\n",
    "median_EstimatedSalary = data_df.EstimatedSalary.median()\n",
    "data_df.EstimatedSalary = data_df.EstimatedSalary.fillna(median_EstimatedSalary)"
   ]
  },
  {
   "cell_type": "code",
   "execution_count": 6,
   "id": "c187de80",
   "metadata": {},
   "outputs": [],
   "source": [
    "#Filling missing values with median from the column\n",
    "data_df['tenure'] = (data_df['tenure'].fillna(data_df['tenure'].median()))\n",
    "data_df['CreditScore'] = (data_df['CreditScore'].fillna(data_df['CreditScore'].median()))\n",
    "#Replacing the \"No phone service\" with \"No\" for NO PHONE SERVICE\n",
    "data_df['MultipleLines'] = data_df['MultipleLines'].replace('No phone service', 'No')\n",
    "#Replacing the \"No internet service\" with \"No\" for ONLINE SECURITY\n",
    "data_df['OnlineSecurity'] = data_df['OnlineSecurity'].replace('No internet service', 'No')\n",
    "#Replacing the \"No internet service\" with \"No\" for ONLINE BACKUP\n",
    "data_df['OnlineBackup'] = data_df['OnlineBackup'].replace('No internet service', 'No')\n",
    "#Replacing the \"No internet service\" with \"No\" for DECIVE PROTECTION\n",
    "data_df['DeviceProtection'] = data_df['DeviceProtection'].replace('No internet service', 'No')\n",
    "#Replacing the \"No internet service\" with \"No\" for TECH SUPPORT\n",
    "data_df['TechSupport'] = data_df['TechSupport'].replace('No internet service', 'No')\n",
    "#Replacing the \"No internet service\" with \"No\" for STREAMING TV\n",
    "data_df['StreamingTV'] = data_df['StreamingTV'].replace('No internet service', 'No')\n",
    "#Replacing the \"No internet service\" with \"No\" for STREAMING MOVIES\n",
    "data_df['StreamingMovies'] = data_df['StreamingMovies'].replace('No internet service', 'No')\n",
    "\n",
    "#Replacing nan with month to month (ASSUMPTION) IN CONTRACT\n",
    "data_df['Contract'] = (data_df['Contract'].fillna('Month-to-month'))\n",
    "\n",
    "# Replace NaN values in 'Geography' column with random 'Spain', 'France', 'Germany' values\n",
    "geography_values = ['Germany', 'France', 'Spain']\n",
    "data_df['Geography'] = np.where(data_df['Geography'].isna(), np.random.choice(geography_values, size=len(data_df)), data_df['Geography'])\n",
    "\n",
    "# replace partner with random choice\n",
    "partner_values = ['Yes', 'No']\n",
    "data_df['Partner'] = np.where(data_df['Partner'].isna(), np.random.choice(partner_values, size=len(data_df)), data_df['Partner'])\n"
   ]
  },
  {
   "cell_type": "code",
   "execution_count": null,
   "id": "ff7dec46",
   "metadata": {},
   "outputs": [],
   "source": [
    "data_df.info()"
   ]
  },
  {
   "cell_type": "markdown",
   "id": "c0d6cfd7",
   "metadata": {},
   "source": [
    "#### Optimising Memory Use"
   ]
  },
  {
   "cell_type": "code",
   "execution_count": 7,
   "id": "fe83a4ff",
   "metadata": {},
   "outputs": [
    {
     "name": "stdout",
     "output_type": "stream",
     "text": [
      "Optomising Memory Use\n",
      "\n",
      "\n",
      "<class 'pandas.core.frame.DataFrame'>\n",
      "Int64Index: 7337 entries, 0 to 7999\n",
      "Data columns (total 23 columns):\n",
      " #   Column            Non-Null Count  Dtype   \n",
      "---  ------            --------------  -----   \n",
      " 0   SeniorCitizen     7337 non-null   bool    \n",
      " 1   Partner           7337 non-null   bool    \n",
      " 2   tenure            7337 non-null   int16   \n",
      " 3   PhoneService      7337 non-null   bool    \n",
      " 4   MultipleLines     7337 non-null   bool    \n",
      " 5   InternetService   7337 non-null   category\n",
      " 6   OnlineSecurity    7337 non-null   bool    \n",
      " 7   OnlineBackup      7337 non-null   bool    \n",
      " 8   DeviceProtection  7337 non-null   bool    \n",
      " 9   TechSupport       7337 non-null   bool    \n",
      " 10  StreamingTV       7337 non-null   bool    \n",
      " 11  StreamingMovies   7337 non-null   bool    \n",
      " 12  Contract          7337 non-null   category\n",
      " 13  PaperlessBilling  7337 non-null   bool    \n",
      " 14  TotalCharges      7337 non-null   float16 \n",
      " 15  Geography         7337 non-null   category\n",
      " 16  CreditScore       7337 non-null   int16   \n",
      " 17  EstimatedSalary   7337 non-null   float32 \n",
      " 18  Dependents        7337 non-null   bool    \n",
      " 19  PaymentMethod     7337 non-null   category\n",
      " 20  Charge            7337 non-null   float16 \n",
      " 21  Churn             7337 non-null   bool    \n",
      " 22  IsFemale          7337 non-null   bool    \n",
      "dtypes: bool(14), category(4), float16(2), float32(1), int16(2)\n",
      "memory usage: 272.9 KB\n"
     ]
    }
   ],
   "source": [
    "if data_re_initialized:\n",
    "    print('Optomising Memory Use\\n\\n')\n",
    "    \n",
    "    data_df['IsFemale'] = data_df.gender.map({'Female': True,\n",
    "                                            'Male': False})\n",
    "    data_df = data_df.drop('gender', axis=1)\n",
    "    \n",
    "    data_df.SeniorCitizen = data_df.SeniorCitizen.map({0.0: False,\n",
    "                                                      1.0: True})\n",
    "    data_df.Partner = data_df.Partner.map({'Yes': True,\n",
    "                                           'No': False})\n",
    "    data_df.tenure = data_df.tenure.astype('int16')\n",
    "    data_df.PhoneService = data_df.PhoneService.map({'Yes': True,\n",
    "                                                     'No': False})\n",
    "    data_df.MultipleLines = data_df.MultipleLines.map({'Yes': True,\n",
    "                                                       'No': False})\n",
    "    data_df.InternetService = data_df.InternetService.astype('category')\n",
    "    data_df.OnlineSecurity = data_df.OnlineSecurity.map({'Yes': True,\n",
    "                                                         'No': False})\n",
    "    data_df.OnlineBackup = data_df.OnlineBackup.map({'Yes': True,\n",
    "                                                     'No': False})\n",
    "    data_df.DeviceProtection = data_df.DeviceProtection.map({'Yes': True,\n",
    "                                                             'No': False})\n",
    "    data_df.TechSupport = data_df.TechSupport.map({'Yes': True,\n",
    "                                                   'No': False})\n",
    "    data_df.StreamingTV = data_df.StreamingTV.map({'Yes': True,\n",
    "                                                   'No': False})\n",
    "    data_df.StreamingMovies = data_df.StreamingMovies.map({'Yes': True,\n",
    "                                                           'No': False})\n",
    "    data_df.Contract = data_df.Contract.astype('category')\n",
    "    data_df.PaperlessBilling = data_df.PaperlessBilling.map({'Yes': True,\n",
    "                                                             'No': False})\n",
    "    data_df.TotalCharges = data_df.TotalCharges.astype('float16')\n",
    "    data_df.Geography = data_df.Geography.astype('category')\n",
    "    data_df.CreditScore = data_df.CreditScore.astype('int16')\n",
    "    data_df.EstimatedSalary = data_df.EstimatedSalary.astype('float32')\n",
    "    data_df.Dependents = data_df.Dependents.map({'Yes': True,\n",
    "                                                 'No': False})\n",
    "    data_df.PaymentMethod = data_df.PaymentMethod.astype('category')\n",
    "    data_df.Charge = data_df.Charge.astype('float16')\n",
    "    data_df.Churn = data_df.Churn.map({'Yes': True,\n",
    "                                       'No': False})\n",
    "    \n",
    "    # make sure this step only happens once\n",
    "    data_re_initialized = False\n",
    "\n",
    "data_df.info()"
   ]
  },
  {
   "cell_type": "code",
   "execution_count": 8,
   "id": "ed10bcde",
   "metadata": {},
   "outputs": [
    {
     "data": {
      "text/html": [
       "<div>\n",
       "<style scoped>\n",
       "    .dataframe tbody tr th:only-of-type {\n",
       "        vertical-align: middle;\n",
       "    }\n",
       "\n",
       "    .dataframe tbody tr th {\n",
       "        vertical-align: top;\n",
       "    }\n",
       "\n",
       "    .dataframe thead th {\n",
       "        text-align: right;\n",
       "    }\n",
       "</style>\n",
       "<table border=\"1\" class=\"dataframe\">\n",
       "  <thead>\n",
       "    <tr style=\"text-align: right;\">\n",
       "      <th></th>\n",
       "      <th>SeniorCitizen</th>\n",
       "      <th>Partner</th>\n",
       "      <th>tenure</th>\n",
       "      <th>PhoneService</th>\n",
       "      <th>MultipleLines</th>\n",
       "      <th>OnlineSecurity</th>\n",
       "      <th>OnlineBackup</th>\n",
       "      <th>DeviceProtection</th>\n",
       "      <th>TechSupport</th>\n",
       "      <th>StreamingTV</th>\n",
       "      <th>StreamingMovies</th>\n",
       "      <th>PaperlessBilling</th>\n",
       "      <th>TotalCharges</th>\n",
       "      <th>CreditScore</th>\n",
       "      <th>EstimatedSalary</th>\n",
       "      <th>Dependents</th>\n",
       "      <th>Charge</th>\n",
       "      <th>IsFemale</th>\n",
       "    </tr>\n",
       "    <tr>\n",
       "      <th>Churn</th>\n",
       "      <th></th>\n",
       "      <th></th>\n",
       "      <th></th>\n",
       "      <th></th>\n",
       "      <th></th>\n",
       "      <th></th>\n",
       "      <th></th>\n",
       "      <th></th>\n",
       "      <th></th>\n",
       "      <th></th>\n",
       "      <th></th>\n",
       "      <th></th>\n",
       "      <th></th>\n",
       "      <th></th>\n",
       "      <th></th>\n",
       "      <th></th>\n",
       "      <th></th>\n",
       "      <th></th>\n",
       "    </tr>\n",
       "  </thead>\n",
       "  <tbody>\n",
       "    <tr>\n",
       "      <th>False</th>\n",
       "      <td>0.129427</td>\n",
       "      <td>0.529390</td>\n",
       "      <td>37.391619</td>\n",
       "      <td>0.901910</td>\n",
       "      <td>0.412943</td>\n",
       "      <td>0.332097</td>\n",
       "      <td>0.368811</td>\n",
       "      <td>0.362692</td>\n",
       "      <td>0.339143</td>\n",
       "      <td>0.368997</td>\n",
       "      <td>0.373447</td>\n",
       "      <td>0.536065</td>\n",
       "      <td>2546.0</td>\n",
       "      <td>649.514741</td>\n",
       "      <td>99480.468750</td>\n",
       "      <td>0.343594</td>\n",
       "      <td>61.59375</td>\n",
       "      <td>0.493974</td>\n",
       "    </tr>\n",
       "    <tr>\n",
       "      <th>True</th>\n",
       "      <td>0.256173</td>\n",
       "      <td>0.363683</td>\n",
       "      <td>18.034979</td>\n",
       "      <td>0.909465</td>\n",
       "      <td>0.451132</td>\n",
       "      <td>0.159979</td>\n",
       "      <td>0.288066</td>\n",
       "      <td>0.293724</td>\n",
       "      <td>0.167181</td>\n",
       "      <td>0.432613</td>\n",
       "      <td>0.441872</td>\n",
       "      <td>0.746399</td>\n",
       "      <td>1533.0</td>\n",
       "      <td>652.617284</td>\n",
       "      <td>102808.070312</td>\n",
       "      <td>0.175412</td>\n",
       "      <td>74.62500</td>\n",
       "      <td>0.503086</td>\n",
       "    </tr>\n",
       "  </tbody>\n",
       "</table>\n",
       "</div>"
      ],
      "text/plain": [
       "       SeniorCitizen   Partner     tenure  PhoneService  MultipleLines  OnlineSecurity  OnlineBackup  DeviceProtection  TechSupport  StreamingTV  StreamingMovies  PaperlessBilling  TotalCharges  CreditScore  EstimatedSalary  Dependents    Charge  IsFemale\n",
       "Churn                                                                                                                                                                                                                                                          \n",
       "False       0.129427  0.529390  37.391619      0.901910       0.412943        0.332097      0.368811          0.362692     0.339143     0.368997         0.373447          0.536065        2546.0   649.514741     99480.468750    0.343594  61.59375  0.493974\n",
       "True        0.256173  0.363683  18.034979      0.909465       0.451132        0.159979      0.288066          0.293724     0.167181     0.432613         0.441872          0.746399        1533.0   652.617284    102808.070312    0.175412  74.62500  0.503086"
      ]
     },
     "execution_count": 8,
     "metadata": {},
     "output_type": "execute_result"
    }
   ],
   "source": [
    "data_df.groupby('Churn').mean()"
   ]
  },
  {
   "cell_type": "code",
   "execution_count": null,
   "id": "5f744700",
   "metadata": {},
   "outputs": [],
   "source": []
  },
  {
   "cell_type": "markdown",
   "id": "f1f5dc0d",
   "metadata": {},
   "source": [
    "## No changes"
   ]
  },
  {
   "cell_type": "markdown",
   "id": "cd498f73",
   "metadata": {},
   "source": [
    "### Variable selection\n",
    "Select x_var for the model"
   ]
  },
  {
   "cell_type": "code",
   "execution_count": 9,
   "id": "645ed3a5",
   "metadata": {},
   "outputs": [],
   "source": [
    "x_var = ['SeniorCitizen', \n",
    "         'Partner', 'tenure', \n",
    "         'PhoneService', \n",
    "         'MultipleLines', \n",
    "#          'InternetService', \n",
    "         'OnlineSecurity', \n",
    "         'OnlineBackup', \n",
    "         'DeviceProtection', \n",
    "         'TechSupport', \n",
    "         'StreamingTV', \n",
    "         'StreamingMovies', \n",
    "#          'Contract', \n",
    "         'PaperlessBilling', \n",
    "         'TotalCharges', \n",
    "#          'Geography', \n",
    "         'CreditScore', \n",
    "         'EstimatedSalary', \n",
    "         'Dependents', \n",
    "#          'PaymentMethod', \n",
    "         'Charge', \n",
    "         'IsFemale']"
   ]
  },
  {
   "cell_type": "markdown",
   "id": "b8c111d9",
   "metadata": {},
   "source": [
    "### Create and Train Model"
   ]
  },
  {
   "cell_type": "code",
   "execution_count": 10,
   "id": "898d6765",
   "metadata": {},
   "outputs": [],
   "source": [
    "y_data = data_df.loc[:, 'Churn']\n",
    "x_data = data_df.loc[:, x_var]\n",
    "\n",
    "x_train, x_test, y_train, y_test = train_test_split(x_data, y_data, test_size=0.3, random_state=23)"
   ]
  },
  {
   "cell_type": "code",
   "execution_count": 11,
   "id": "f740ab5b",
   "metadata": {},
   "outputs": [],
   "source": [
    "model_lr = LogisticRegression()"
   ]
  },
  {
   "cell_type": "code",
   "execution_count": 12,
   "id": "a980adac",
   "metadata": {},
   "outputs": [
    {
     "data": {
      "text/plain": [
       "LogisticRegression()"
      ]
     },
     "execution_count": 12,
     "metadata": {},
     "output_type": "execute_result"
    }
   ],
   "source": [
    "model_lr.fit(x_train, y_train)"
   ]
  },
  {
   "cell_type": "code",
   "execution_count": 13,
   "id": "4057a37d",
   "metadata": {},
   "outputs": [],
   "source": [
    "y_predicted = model_lr.predict(x_test)"
   ]
  },
  {
   "cell_type": "markdown",
   "id": "257b656e",
   "metadata": {
    "heading_collapsed": true
   },
   "source": [
    "### Results"
   ]
  },
  {
   "cell_type": "code",
   "execution_count": 14,
   "id": "3428df15",
   "metadata": {
    "hidden": true
   },
   "outputs": [
    {
     "name": "stdout",
     "output_type": "stream",
     "text": [
      "\n",
      "        true positive | false positive\n",
      "        1461 (66.35%) | 165 (7.49%)\n",
      "        --------------+----------------\n",
      "       false negative | true negative\n",
      "        338 (15.35%)  | 238 (10.81%)\n",
      "             \n",
      "      \n",
      "              precision    recall  f1-score   support\n",
      "\n",
      "       False       0.81      0.90      0.85      1626\n",
      "        True       0.59      0.41      0.49       576\n",
      "\n",
      "    accuracy                           0.77      2202\n",
      "   macro avg       0.70      0.66      0.67      2202\n",
      "weighted avg       0.75      0.77      0.76      2202\n",
      "\n"
     ]
    }
   ],
   "source": [
    "predicted_positive, predicted_negative = confusion_matrix(y_test, y_predicted)\n",
    "print(f\"\"\"\n",
    "        true positive | false positive\n",
    "        {predicted_positive[0]} ({(predicted_positive[0]/22.02).round(2)}%) | {predicted_positive[1]} ({(predicted_positive[1]/22.02).round(2)}%)\n",
    "        --------------+----------------\n",
    "       false negative | true negative\n",
    "        {predicted_negative[0]} ({(predicted_negative[0]/22.02).round(2)}%)  | {predicted_negative[1]} ({(predicted_negative[1]/22.02).round(2)}%)\n",
    "             \n",
    "      \"\"\") \n",
    "print(classification_report(y_test, y_predicted))"
   ]
  },
  {
   "cell_type": "markdown",
   "id": "069648ec",
   "metadata": {
    "heading_collapsed": true
   },
   "source": [
    "## Looking at Skewness"
   ]
  },
  {
   "cell_type": "code",
   "execution_count": null,
   "id": "35b459ac",
   "metadata": {
    "hidden": true
   },
   "outputs": [],
   "source": [
    "data_df.info()"
   ]
  },
  {
   "cell_type": "code",
   "execution_count": 15,
   "id": "0f75582e",
   "metadata": {
    "hidden": true
   },
   "outputs": [
    {
     "name": "stdout",
     "output_type": "stream",
     "text": [
      "tenure :\t 0.2518930250256052\n",
      "TotalCharges :\t nan\n",
      "CreditScore :\t -0.06964944508271206\n",
      "EstimatedSalary :\t -0.007037146\n"
     ]
    }
   ],
   "source": [
    "numeric_columns = ['tenure', 'TotalCharges', 'CreditScore', 'EstimatedSalary']\n",
    "for column in numeric_columns:\n",
    "    print(column, ':\\t', data_df[column].skew())"
   ]
  },
  {
   "cell_type": "markdown",
   "id": "71287bfd",
   "metadata": {},
   "source": [
    "## Random Forest"
   ]
  },
  {
   "cell_type": "code",
   "execution_count": null,
   "id": "47909082",
   "metadata": {},
   "outputs": [],
   "source": [
    "# create random forest model\n",
    "# fit the model\n",
    "# get y predicted"
   ]
  },
  {
   "cell_type": "markdown",
   "id": "1f019caf",
   "metadata": {},
   "source": [
    "## TO DO"
   ]
  },
  {
   "cell_type": "code",
   "execution_count": 16,
   "id": "97759656",
   "metadata": {},
   "outputs": [
    {
     "data": {
      "text/plain": [
       "False    5393\n",
       "True     1944\n",
       "Name: Churn, dtype: int64"
      ]
     },
     "execution_count": 16,
     "metadata": {},
     "output_type": "execute_result"
    }
   ],
   "source": [
    "data_df.Churn.value_counts()"
   ]
  },
  {
   "cell_type": "markdown",
   "id": "42dd88ec",
   "metadata": {},
   "source": [
    "- bins for categories\n",
    "- Scaling\n",
    "- resmpling"
   ]
  },
  {
   "cell_type": "code",
   "execution_count": null,
   "id": "63c2cb2c",
   "metadata": {},
   "outputs": [],
   "source": []
  }
 ],
 "metadata": {
  "kernelspec": {
   "display_name": "Python 3 (ipykernel)",
   "language": "python",
   "name": "python3"
  },
  "language_info": {
   "codemirror_mode": {
    "name": "ipython",
    "version": 3
   },
   "file_extension": ".py",
   "mimetype": "text/x-python",
   "name": "python",
   "nbconvert_exporter": "python",
   "pygments_lexer": "ipython3",
   "version": "3.9.12"
  }
 },
 "nbformat": 4,
 "nbformat_minor": 5
}
